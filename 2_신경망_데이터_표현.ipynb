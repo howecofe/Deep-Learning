{
  "nbformat": 4,
  "nbformat_minor": 0,
  "metadata": {
    "colab": {
      "name": "Jiyun Lee - _3 신경망 데이터 표현",
      "provenance": [],
      "collapsed_sections": []
    },
    "kernelspec": {
      "name": "python3",
      "display_name": "Python 3"
    }
  },
  "cells": [
    {
      "cell_type": "markdown",
      "metadata": {
        "id": "ebow7b5dS-KW"
      },
      "source": [
        "# 신경망 데이터 표현"
      ]
    },
    {
      "cell_type": "code",
      "metadata": {
        "id": "9BDaiyTNBFAN"
      },
      "source": [
        "import numpy as np\n",
        "import matplotlib.pyplot as plt\n",
        "plt.style.use(['seaborn-whitegrid'])"
      ],
      "execution_count": null,
      "outputs": []
    },
    {
      "cell_type": "markdown",
      "metadata": {
        "id": "7Ic-YQ7xBQ9m"
      },
      "source": [
        "## 텐서(Tensor)\n",
        "- 일반적으로 텐서는 3차원 이상을 다룰 때 표현하는 방식이지만, 여기서는 어떠한 데이터를 표현할 때, 그 값 모두를 텐서라고 부르기로 함\n",
        "\n",
        "      a = np.array([1, 2])\n",
        "      b = np.array([[1, 2],\n",
        "                    [3, 4]])\n",
        "      c = np.array([10]) \n",
        "      d = np.array(3)  \n",
        "  \n",
        "    a, b, c, d 모두 텐서라고 지칭할 수 있음\n",
        "  \n",
        "- 랭크(rank): 텐서의 축을 나타내고, 넘파이(numpy)의 `ndim`으로 구할 수 있음\n",
        "\n",
        "      a = np.array([1, 2])\n",
        "        >> ndim = 1  \n",
        "      b = np.array([[1, 2],\n",
        "                    [3, 4]])\n",
        "        >> ndim = 2\n",
        "      d = np.array(3)\n",
        "        >> ndim = 0\n",
        "      \n",
        "    위의 예시에서 알 수 있듯이 대괄호( [ ] )의 개수가 곧 랭크(축)의 값\n",
        "    \n",
        "      \n",
        "- 크기(shape): 텐서의 각 축을 따라 얼마나 많은 차원이 있는지를 나타내며, 파이썬의 튜플(tuple) 형태\n"
      ]
    },
    {
      "cell_type": "markdown",
      "metadata": {
        "id": "ehzSlqdjBVxB"
      },
      "source": [
        "## 그림으로 이해하기\n",
        "\n",
        "![array](https://www.oreilly.com/library/view/elegant-scipy/9781491922927/assets/elsp_0105.png)\n",
        "<br /><sub>출처: https://www.oreilly.com/library/view/elegant-scipy/9781491922927/ch01.html</sub>"
      ]
    },
    {
      "cell_type": "markdown",
      "metadata": {
        "id": "AxZDqX5HBYMf"
      },
      "source": [
        "## 스칼라(0차원 텐서)\n",
        "- 하나의 숫자를 담고 있는 텐서(tensor)\n",
        "- 형상은 없음"
      ]
    },
    {
      "cell_type": "code",
      "metadata": {
        "id": "TicFogkHBPRW",
        "colab": {
          "base_uri": "https://localhost:8080/",
          "height": 73
        },
        "outputId": "4f9258f5-1383-47cd-ddf4-b8b9a754b18c"
      },
      "source": [
        "x = np.array(3)\n",
        "print(x)\n",
        "print(x.shape)\n",
        "print(np.ndim(x))"
      ],
      "execution_count": null,
      "outputs": [
        {
          "output_type": "stream",
          "text": [
            "3\n",
            "()\n",
            "0\n"
          ],
          "name": "stdout"
        }
      ]
    },
    {
      "cell_type": "markdown",
      "metadata": {
        "id": "rab-I4gyBeZw"
      },
      "source": [
        "## 벡터(1차원 텐서)\n",
        "- 숫자의 배열을 나타내는 텐서\n"
      ]
    },
    {
      "cell_type": "code",
      "metadata": {
        "id": "s4gm0mRVBZwa",
        "colab": {
          "base_uri": "https://localhost:8080/",
          "height": 73
        },
        "outputId": "e812cf1f-a62a-482f-aac4-bc2f92d51f9f"
      },
      "source": [
        "x = np.array([1, 2, 3, 4])\n",
        "print(x)\n",
        "print(x.shape)\n",
        "print(np.ndim(x))"
      ],
      "execution_count": null,
      "outputs": [
        {
          "output_type": "stream",
          "text": [
            "[1 2 3 4]\n",
            "(4,)\n",
            "1\n"
          ],
          "name": "stdout"
        }
      ]
    },
    {
      "cell_type": "markdown",
      "metadata": {
        "id": "-S3G7ym8Bh6I"
      },
      "source": [
        "### 벡터의 합\n",
        "- 같은 형상(shape)일 때, 각 원소별로 계산"
      ]
    },
    {
      "cell_type": "code",
      "metadata": {
        "id": "6pzPyoNqBcgn",
        "colab": {
          "base_uri": "https://localhost:8080/",
          "height": 111
        },
        "outputId": "b5f41040-881b-4443-8170-16ad5dc79ce2"
      },
      "source": [
        "a = np.array([1, 2, 3, 4])\n",
        "b = np.array([5, 6, 7, 8])\n",
        "c = a + b\n",
        "\n",
        "print(a)\n",
        "print(b)\n",
        "print(c)\n",
        "print(c.shape)\n",
        "print(np.ndim(c))"
      ],
      "execution_count": null,
      "outputs": [
        {
          "output_type": "stream",
          "text": [
            "[1 2 3 4]\n",
            "[5 6 7 8]\n",
            "[ 6  8 10 12]\n",
            "(4,)\n",
            "1\n"
          ],
          "name": "stdout"
        }
      ]
    },
    {
      "cell_type": "markdown",
      "metadata": {
        "id": "RqnBR8DyBla5"
      },
      "source": [
        "### 벡터의 곱\n",
        "-  $A = (x_1, \\ x_2, \\ x_3, \\ ..., \\ x_n)$  \n",
        "  $B = (y_1, \\ y_2, \\ y_3, \\ ..., \\ y_n)$ 일 때,\n",
        "- 원소곱\n",
        "  - 같은 형상(shape)일 때, 각 원소별로 계산   \n",
        "   \n",
        "    $A \\times B = (x_1, \\ x_2, \\ x_3, \\ ..., \\ x_n) \\times (y_1, \\ y_2, \\ y_3, \\ ..., \\ y_n) \\\\   \n",
        "    \\qquad = (x_1y_1, \\ x_2y_2, \\ x_3y_3, \\ ... \\ ,  \\ x_ny_n)  $\n",
        "    \n",
        "- 벡터곱(product, dot)\n",
        "  - 두 1차원 벡터가 있을 때 **각각의 성분끼리의 곱을 모두 더하는 계산**  \n",
        "  \n",
        "    $A \\bullet B \\Rightarrow A \\times B^T = (x_1, \\ x_2, \\ x_3, \\ ..., \\ x_n) \\begin{pmatrix} y_1 \\\\ y_2 \\\\ y_3 \\\\ ... \\\\ y_n  \\end{pmatrix} \\\\  \n",
        "    \\qquad = (x_1y_1 + \\ x_2y_2 + \\ x_3y_3 + \\ ... + \\ x_ny_n)  $\n",
        "  "
      ]
    },
    {
      "cell_type": "code",
      "metadata": {
        "id": "kxcrUZPwBceX",
        "colab": {
          "base_uri": "https://localhost:8080/",
          "height": 148
        },
        "outputId": "88191e9b-2e61-4fe0-f43d-892b87fceded"
      },
      "source": [
        "a = np.array([1, 2, 3, 4])\n",
        "b = np.array([5, 6, 7, 8])\n",
        "c = a * b\n",
        "print(c)\n",
        "print(c.shape)\n",
        "print(np.ndim(c))\n",
        "print(\"----------------------\")\n",
        "x = np.array([1, 2, 0])\n",
        "y = np.array([0, 2, 1])\n",
        "z = np.dot(x, y)\n",
        "print(z)\n",
        "print(z.shape)\n",
        "print(np.ndim(z))"
      ],
      "execution_count": null,
      "outputs": [
        {
          "output_type": "stream",
          "text": [
            "[ 5 12 21 32]\n",
            "(4,)\n",
            "1\n",
            "----------------------\n",
            "4\n",
            "()\n",
            "0\n"
          ],
          "name": "stdout"
        }
      ]
    },
    {
      "cell_type": "markdown",
      "metadata": {
        "id": "IIKrmykBBpn4"
      },
      "source": [
        "## 스칼라와 벡터의 곱\n"
      ]
    },
    {
      "cell_type": "code",
      "metadata": {
        "id": "CWNGJnA9BcaU",
        "colab": {
          "base_uri": "https://localhost:8080/",
          "height": 36
        },
        "outputId": "c9466e63-88fb-4b65-f2ee-327974cf0fbf"
      },
      "source": [
        "a = np.array(10)\n",
        "b = np.array([1, 2, 3])\n",
        "print(a * b)"
      ],
      "execution_count": null,
      "outputs": [
        {
          "output_type": "stream",
          "text": [
            "[10 20 30]\n"
          ],
          "name": "stdout"
        }
      ]
    },
    {
      "cell_type": "markdown",
      "metadata": {
        "id": "a_WUc48rBszu"
      },
      "source": [
        "## 2차원 텐서(행렬)\n",
        "- 2차원 텐서는 행렬로 생각할 수 있음\n",
        "    - (m, n) 형상의 배열\n",
        "\n",
        "![matrix](https://upload.wikimedia.org/wikipedia/commons/thumb/4/4d/Matrix_ko.svg/570px-Matrix_ko.svg.png)\n",
        "<br /><sub>출처: https://ko.wikipedia.org/wiki/%ED%96%89%EB%A0%AC</sub>\n"
      ]
    },
    {
      "cell_type": "code",
      "metadata": {
        "id": "M6QQeHZJBcX6",
        "colab": {
          "base_uri": "https://localhost:8080/",
          "height": 167
        },
        "outputId": "7bcaef00-3c85-4b60-a2e4-695684605a64"
      },
      "source": [
        "matrix = np.array([[1, 2, 3],\n",
        "                   [4, 5, 6]])\n",
        "print(matrix)\n",
        "print(matrix.shape)\n",
        "print(np.ndim(matrix))\n",
        "print('-----------------')\n",
        "matrix2 = np.array([[1, 2, 3, 4]])\n",
        "print(matrix2)\n",
        "print(matrix2.shape)\n",
        "print(np.ndim(matrix2))"
      ],
      "execution_count": null,
      "outputs": [
        {
          "output_type": "stream",
          "text": [
            "[[1 2 3]\n",
            " [4 5 6]]\n",
            "(2, 3)\n",
            "2\n",
            "-----------------\n",
            "[[1 2 3 4]]\n",
            "(1, 4)\n",
            "2\n"
          ],
          "name": "stdout"
        }
      ]
    },
    {
      "cell_type": "markdown",
      "metadata": {
        "id": "6LEedf9GB2G1"
      },
      "source": [
        "### 행렬 원소곱\n",
        "- 같은 형상(shape)일 때 덧셈, 곱셈과 같은 연산은 원소별로 진행\n"
      ]
    },
    {
      "cell_type": "code",
      "metadata": {
        "id": "PchJ4TwyBcVc",
        "colab": {
          "base_uri": "https://localhost:8080/",
          "height": 185
        },
        "outputId": "f7609b6e-673a-479d-cce3-3609521a7ae7"
      },
      "source": [
        "A = np.array([[1, 2], [3, 4]])\n",
        "B = np.array([[10, 10], [10, 10]])\n",
        "\n",
        "print(\"행렬 A\\n\", A)\n",
        "print(\"행렬 B\\n\", B)\n",
        "print(\"A * B\\n\", A * B)"
      ],
      "execution_count": null,
      "outputs": [
        {
          "output_type": "stream",
          "text": [
            "행렬 A\n",
            " [[1 2]\n",
            " [3 4]]\n",
            "행렬 B\n",
            " [[10 10]\n",
            " [10 10]]\n",
            "A * B\n",
            " [[10 20]\n",
            " [30 40]]\n"
          ],
          "name": "stdout"
        }
      ]
    },
    {
      "cell_type": "markdown",
      "metadata": {
        "id": "_cvFlhuCB5hz"
      },
      "source": [
        "### 행렬 점곱(내적, product)\n",
        "- 1차원 벡터와 마찬가지로 앞 행렬의 열과 뒤 행렬의 행의 수가 같아야함"
      ]
    },
    {
      "cell_type": "code",
      "metadata": {
        "id": "452G60yvBcRr",
        "colab": {
          "base_uri": "https://localhost:8080/",
          "height": 223
        },
        "outputId": "9d47301e-09f1-4a09-df68-51605bc0f0b0"
      },
      "source": [
        "M = np.array([[1, 2], [3, 4]])\n",
        "N = np.array([[2, 3, 4], [2, 3, 4]])\n",
        "print(\"행렬 M\\n\", M)\n",
        "print(\"행렬 N\\n\", N)\n",
        "L = np.dot(M, N)\n",
        "print(\"행렬 L\\n\", L)\n",
        "print(L.shape)\n",
        "print(np.ndim(L))"
      ],
      "execution_count": null,
      "outputs": [
        {
          "output_type": "stream",
          "text": [
            "행렬 M\n",
            " [[1 2]\n",
            " [3 4]]\n",
            "행렬 N\n",
            " [[2 3 4]\n",
            " [2 3 4]]\n",
            "행렬 L\n",
            " [[ 6  9 12]\n",
            " [14 21 28]]\n",
            "(2, 3)\n",
            "2\n"
          ],
          "name": "stdout"
        }
      ]
    },
    {
      "cell_type": "code",
      "metadata": {
        "id": "oSgCXPJzBb0_",
        "colab": {
          "base_uri": "https://localhost:8080/",
          "height": 288
        },
        "outputId": "e37d6a73-caa0-4e01-f46e-0ab50a9f0776"
      },
      "source": [
        "# Error: 앞 행렬의 열, 뒷 행렬의 행 수가 같아야 함.\n",
        "m = np.array([[1], [2], [3]])\n",
        "n = np.array([[1], [2], [3]])\n",
        "l = np.dot(m, n)\n",
        "\n",
        "print(l)\n",
        "print(l.shape)\n",
        "print(np.ndim(l))"
      ],
      "execution_count": null,
      "outputs": [
        {
          "output_type": "error",
          "ename": "ValueError",
          "evalue": "ignored",
          "traceback": [
            "\u001b[0;31m---------------------------------------------------------------------------\u001b[0m",
            "\u001b[0;31mValueError\u001b[0m                                Traceback (most recent call last)",
            "\u001b[0;32m<ipython-input-12-4ce2becd3bd0>\u001b[0m in \u001b[0;36m<module>\u001b[0;34m()\u001b[0m\n\u001b[1;32m      1\u001b[0m \u001b[0mm\u001b[0m \u001b[0;34m=\u001b[0m \u001b[0mnp\u001b[0m\u001b[0;34m.\u001b[0m\u001b[0marray\u001b[0m\u001b[0;34m(\u001b[0m\u001b[0;34m[\u001b[0m\u001b[0;34m[\u001b[0m\u001b[0;36m1\u001b[0m\u001b[0;34m]\u001b[0m\u001b[0;34m,\u001b[0m \u001b[0;34m[\u001b[0m\u001b[0;36m2\u001b[0m\u001b[0;34m]\u001b[0m\u001b[0;34m,\u001b[0m \u001b[0;34m[\u001b[0m\u001b[0;36m3\u001b[0m\u001b[0;34m]\u001b[0m\u001b[0;34m]\u001b[0m\u001b[0;34m)\u001b[0m\u001b[0;34m\u001b[0m\u001b[0;34m\u001b[0m\u001b[0m\n\u001b[1;32m      2\u001b[0m \u001b[0mn\u001b[0m \u001b[0;34m=\u001b[0m \u001b[0mnp\u001b[0m\u001b[0;34m.\u001b[0m\u001b[0marray\u001b[0m\u001b[0;34m(\u001b[0m\u001b[0;34m[\u001b[0m\u001b[0;34m[\u001b[0m\u001b[0;36m1\u001b[0m\u001b[0;34m]\u001b[0m\u001b[0;34m,\u001b[0m \u001b[0;34m[\u001b[0m\u001b[0;36m2\u001b[0m\u001b[0;34m]\u001b[0m\u001b[0;34m,\u001b[0m \u001b[0;34m[\u001b[0m\u001b[0;36m3\u001b[0m\u001b[0;34m]\u001b[0m\u001b[0;34m]\u001b[0m\u001b[0;34m)\u001b[0m\u001b[0;34m\u001b[0m\u001b[0;34m\u001b[0m\u001b[0m\n\u001b[0;32m----> 3\u001b[0;31m \u001b[0ml\u001b[0m \u001b[0;34m=\u001b[0m \u001b[0mnp\u001b[0m\u001b[0;34m.\u001b[0m\u001b[0mdot\u001b[0m\u001b[0;34m(\u001b[0m\u001b[0mm\u001b[0m\u001b[0;34m,\u001b[0m \u001b[0mn\u001b[0m\u001b[0;34m)\u001b[0m\u001b[0;34m\u001b[0m\u001b[0;34m\u001b[0m\u001b[0m\n\u001b[0m\u001b[1;32m      4\u001b[0m \u001b[0;34m\u001b[0m\u001b[0m\n\u001b[1;32m      5\u001b[0m \u001b[0mprint\u001b[0m\u001b[0;34m(\u001b[0m\u001b[0ml\u001b[0m\u001b[0;34m)\u001b[0m\u001b[0;34m\u001b[0m\u001b[0;34m\u001b[0m\u001b[0m\n",
            "\u001b[0;32m<__array_function__ internals>\u001b[0m in \u001b[0;36mdot\u001b[0;34m(*args, **kwargs)\u001b[0m\n",
            "\u001b[0;31mValueError\u001b[0m: shapes (3,1) and (3,1) not aligned: 1 (dim 1) != 3 (dim 0)"
          ]
        }
      ]
    },
    {
      "cell_type": "markdown",
      "metadata": {
        "id": "gfWlP-BtCAzE"
      },
      "source": [
        "### 역행렬\n",
        "- 어떤 행렬 A가 있을 때, 곱해서 단위행렬(E)를 만드는 행렬 B가 존재한다면, 행렬 B는 A의 역행렬"
      ]
    },
    {
      "cell_type": "code",
      "metadata": {
        "id": "0i_L09ggBbwa",
        "colab": {
          "base_uri": "https://localhost:8080/",
          "height": 129
        },
        "outputId": "c2ea230a-1b92-465a-b83e-9e94160161c9"
      },
      "source": [
        "A = np.array([[1, 2], [3, 4]])\n",
        "print(A)\n",
        "B = np.linalg.inv(A) # linalg: linear algebra\n",
        "print(B)\n",
        "print(np.dot(A, B)) # 소수점 오차 때문에 단위행렬과 살짝 다름"
      ],
      "execution_count": null,
      "outputs": [
        {
          "output_type": "stream",
          "text": [
            "[[1 2]\n",
            " [3 4]]\n",
            "[[-2.   1. ]\n",
            " [ 1.5 -0.5]]\n",
            "[[1.0000000e+00 0.0000000e+00]\n",
            " [8.8817842e-16 1.0000000e+00]]\n"
          ],
          "name": "stdout"
        }
      ]
    },
    {
      "cell_type": "code",
      "metadata": {
        "id": "Ra6130CkBbuz",
        "colab": {
          "base_uri": "https://localhost:8080/",
          "height": 387
        },
        "outputId": "d300ec5f-959f-46e0-e7ba-65d4b18c26c8"
      },
      "source": [
        "# 역행렬이 존재하지 않는 행렬의 경우 Error\n",
        "B = np.array([[3, 3], [2, 2]])\n",
        "print(np.linalg.inv(B))"
      ],
      "execution_count": null,
      "outputs": [
        {
          "output_type": "error",
          "ename": "LinAlgError",
          "evalue": "ignored",
          "traceback": [
            "\u001b[0;31m---------------------------------------------------------------------------\u001b[0m",
            "\u001b[0;31mLinAlgError\u001b[0m                               Traceback (most recent call last)",
            "\u001b[0;32m<ipython-input-16-c58a7fdfb691>\u001b[0m in \u001b[0;36m<module>\u001b[0;34m()\u001b[0m\n\u001b[1;32m      1\u001b[0m \u001b[0mB\u001b[0m \u001b[0;34m=\u001b[0m \u001b[0mnp\u001b[0m\u001b[0;34m.\u001b[0m\u001b[0marray\u001b[0m\u001b[0;34m(\u001b[0m\u001b[0;34m[\u001b[0m\u001b[0;34m[\u001b[0m\u001b[0;36m3\u001b[0m\u001b[0;34m,\u001b[0m \u001b[0;36m3\u001b[0m\u001b[0;34m]\u001b[0m\u001b[0;34m,\u001b[0m \u001b[0;34m[\u001b[0m\u001b[0;36m2\u001b[0m\u001b[0;34m,\u001b[0m \u001b[0;36m2\u001b[0m\u001b[0;34m]\u001b[0m\u001b[0;34m]\u001b[0m\u001b[0;34m)\u001b[0m\u001b[0;34m\u001b[0m\u001b[0;34m\u001b[0m\u001b[0m\n\u001b[0;32m----> 2\u001b[0;31m \u001b[0mprint\u001b[0m\u001b[0;34m(\u001b[0m\u001b[0mnp\u001b[0m\u001b[0;34m.\u001b[0m\u001b[0mlinalg\u001b[0m\u001b[0;34m.\u001b[0m\u001b[0minv\u001b[0m\u001b[0;34m(\u001b[0m\u001b[0mB\u001b[0m\u001b[0;34m)\u001b[0m\u001b[0;34m)\u001b[0m\u001b[0;34m\u001b[0m\u001b[0;34m\u001b[0m\u001b[0m\n\u001b[0m",
            "\u001b[0;32m<__array_function__ internals>\u001b[0m in \u001b[0;36minv\u001b[0;34m(*args, **kwargs)\u001b[0m\n",
            "\u001b[0;32m/usr/local/lib/python3.6/dist-packages/numpy/linalg/linalg.py\u001b[0m in \u001b[0;36minv\u001b[0;34m(a)\u001b[0m\n\u001b[1;32m    545\u001b[0m     \u001b[0msignature\u001b[0m \u001b[0;34m=\u001b[0m \u001b[0;34m'D->D'\u001b[0m \u001b[0;32mif\u001b[0m \u001b[0misComplexType\u001b[0m\u001b[0;34m(\u001b[0m\u001b[0mt\u001b[0m\u001b[0;34m)\u001b[0m \u001b[0;32melse\u001b[0m \u001b[0;34m'd->d'\u001b[0m\u001b[0;34m\u001b[0m\u001b[0;34m\u001b[0m\u001b[0m\n\u001b[1;32m    546\u001b[0m     \u001b[0mextobj\u001b[0m \u001b[0;34m=\u001b[0m \u001b[0mget_linalg_error_extobj\u001b[0m\u001b[0;34m(\u001b[0m\u001b[0m_raise_linalgerror_singular\u001b[0m\u001b[0;34m)\u001b[0m\u001b[0;34m\u001b[0m\u001b[0;34m\u001b[0m\u001b[0m\n\u001b[0;32m--> 547\u001b[0;31m     \u001b[0mainv\u001b[0m \u001b[0;34m=\u001b[0m \u001b[0m_umath_linalg\u001b[0m\u001b[0;34m.\u001b[0m\u001b[0minv\u001b[0m\u001b[0;34m(\u001b[0m\u001b[0ma\u001b[0m\u001b[0;34m,\u001b[0m \u001b[0msignature\u001b[0m\u001b[0;34m=\u001b[0m\u001b[0msignature\u001b[0m\u001b[0;34m,\u001b[0m \u001b[0mextobj\u001b[0m\u001b[0;34m=\u001b[0m\u001b[0mextobj\u001b[0m\u001b[0;34m)\u001b[0m\u001b[0;34m\u001b[0m\u001b[0;34m\u001b[0m\u001b[0m\n\u001b[0m\u001b[1;32m    548\u001b[0m     \u001b[0;32mreturn\u001b[0m \u001b[0mwrap\u001b[0m\u001b[0;34m(\u001b[0m\u001b[0mainv\u001b[0m\u001b[0;34m.\u001b[0m\u001b[0mastype\u001b[0m\u001b[0;34m(\u001b[0m\u001b[0mresult_t\u001b[0m\u001b[0;34m,\u001b[0m \u001b[0mcopy\u001b[0m\u001b[0;34m=\u001b[0m\u001b[0;32mFalse\u001b[0m\u001b[0;34m)\u001b[0m\u001b[0;34m)\u001b[0m\u001b[0;34m\u001b[0m\u001b[0;34m\u001b[0m\u001b[0m\n\u001b[1;32m    549\u001b[0m \u001b[0;34m\u001b[0m\u001b[0m\n",
            "\u001b[0;32m/usr/local/lib/python3.6/dist-packages/numpy/linalg/linalg.py\u001b[0m in \u001b[0;36m_raise_linalgerror_singular\u001b[0;34m(err, flag)\u001b[0m\n\u001b[1;32m     95\u001b[0m \u001b[0;34m\u001b[0m\u001b[0m\n\u001b[1;32m     96\u001b[0m \u001b[0;32mdef\u001b[0m \u001b[0m_raise_linalgerror_singular\u001b[0m\u001b[0;34m(\u001b[0m\u001b[0merr\u001b[0m\u001b[0;34m,\u001b[0m \u001b[0mflag\u001b[0m\u001b[0;34m)\u001b[0m\u001b[0;34m:\u001b[0m\u001b[0;34m\u001b[0m\u001b[0;34m\u001b[0m\u001b[0m\n\u001b[0;32m---> 97\u001b[0;31m     \u001b[0;32mraise\u001b[0m \u001b[0mLinAlgError\u001b[0m\u001b[0;34m(\u001b[0m\u001b[0;34m\"Singular matrix\"\u001b[0m\u001b[0;34m)\u001b[0m\u001b[0;34m\u001b[0m\u001b[0;34m\u001b[0m\u001b[0m\n\u001b[0m\u001b[1;32m     98\u001b[0m \u001b[0;34m\u001b[0m\u001b[0m\n\u001b[1;32m     99\u001b[0m \u001b[0;32mdef\u001b[0m \u001b[0m_raise_linalgerror_nonposdef\u001b[0m\u001b[0;34m(\u001b[0m\u001b[0merr\u001b[0m\u001b[0;34m,\u001b[0m \u001b[0mflag\u001b[0m\u001b[0;34m)\u001b[0m\u001b[0;34m:\u001b[0m\u001b[0;34m\u001b[0m\u001b[0;34m\u001b[0m\u001b[0m\n",
            "\u001b[0;31mLinAlgError\u001b[0m: Singular matrix"
          ]
        }
      ]
    },
    {
      "cell_type": "markdown",
      "metadata": {
        "id": "G75LpaMmCGtW"
      },
      "source": [
        "### 전치행렬\n",
        "- 행과 열을 바꾼 배열의 형태\n",
        "\n",
        "![](https://upload.wikimedia.org/wikipedia/commons/e/e4/Matrix_transpose.gif)\n",
        "<br /><sub>출처: https://ko.wikipedia.org/wiki/%EC%A0%84%EC%B9%98%ED%96%89%EB%A0%AC</sub>"
      ]
    },
    {
      "cell_type": "code",
      "metadata": {
        "id": "3QKPQKIjBbre",
        "colab": {
          "base_uri": "https://localhost:8080/",
          "height": 353
        },
        "outputId": "c8a3495e-2e8b-417e-85fb-9388fa23267e"
      },
      "source": [
        "A = np.array([[1, 2, 3], [4, 5, 6]])\n",
        "print(\"A\\n\", A)\n",
        "print(\"A.shape\\n\", A.shape)\n",
        "print(\"--------------\")\n",
        "A_ = A.T\n",
        "print(\"A의 전치행렬\\n\", A_)\n",
        "print(\"(A.T).shape\\n\", A_.shape)\n",
        "print(\"--------------\")\n",
        "B = A_.T\n",
        "print(\"A.T의 전치행렬\\n\", B)\n",
        "print(\"((A.T).T).shape\\n\", B.shape)"
      ],
      "execution_count": null,
      "outputs": [
        {
          "output_type": "stream",
          "text": [
            "A\n",
            " [[1 2 3]\n",
            " [4 5 6]]\n",
            "A.shape\n",
            " (2, 3)\n",
            "--------------\n",
            "A의 전치행렬\n",
            " [[1 4]\n",
            " [2 5]\n",
            " [3 6]]\n",
            "(A.T).shape\n",
            " (3, 2)\n",
            "--------------\n",
            "A.T의 전치행렬\n",
            " [[1 2 3]\n",
            " [4 5 6]]\n",
            "((A.T).T).shape\n",
            " (2, 3)\n"
          ],
          "name": "stdout"
        }
      ]
    },
    {
      "cell_type": "markdown",
      "metadata": {
        "id": "NubNYgh6CKpY"
      },
      "source": [
        "## 3차원 텐서\n",
        "- 보통 이미지를 나타낼 때 사용되는 텐서\n",
        "  - (width, height, channels)\n",
        "  - 일반적으로 Numpy array로 표현  \n",
        "![3d tensor](https://image.slidesharecdn.com/tensordecomposition-170301235239/95/a-brief-survey-of-tensors-5-638.jpg)\n",
        "<br /><sub>출처: https://www.slideshare.net/BertonEarnshaw/a-brief-survey-of-tensors</sub>\n",
        "- 시계열 데이터 또는 시퀀스(sequence) 데이터를 표현할 때도 사용\n",
        "  - (samples, timesteps, features)\n",
        "  - (예시) 주식 가격 데이터셋, 시간에 따른 질병 발병 건수  \n",
        "![](https://kr.mathworks.com/help/deeplearning/examples/timeseriesforecastingusingdeeplearningexample_01_ko_KR.png)\n",
        "<br /><sub>출처: https://kr.mathworks.com/help/deeplearning/examples/time-series-forecasting-using-deep-learning.html</sub>"
      ]
    },
    {
      "cell_type": "code",
      "metadata": {
        "id": "IvVjleI1Bbpn",
        "colab": {
          "base_uri": "https://localhost:8080/",
          "height": 297
        },
        "outputId": "26301bfa-d16e-40db-f0b5-1b46dbdaf4e0"
      },
      "source": [
        "X = np.array([[[5, 3, 2, 1],\n",
        "               [5, 5, 3, 1],\n",
        "               [6, 1, 2, 3]],\n",
        "              [[1, 1, 1, 1],\n",
        "               [3, 4, 7, 5],\n",
        "               [1, 8, 3, 4]],\n",
        "              [[10, 9, 3, 9],\n",
        "               [5, 4, 3, 2],\n",
        "               [7, 6, 3, 4]]])\n",
        "print(\"X\\n\", X, end='\\n\\n')\n",
        "print(\"X.shape:\", X.shape) # (3면, 3행, 4열)\n",
        "print(\"X.ndims:\", X.ndim)"
      ],
      "execution_count": null,
      "outputs": [
        {
          "output_type": "stream",
          "text": [
            "X\n",
            " [[[ 5  3  2  1]\n",
            "  [ 5  5  3  1]\n",
            "  [ 6  1  2  3]]\n",
            "\n",
            " [[ 1  1  1  1]\n",
            "  [ 3  4  7  5]\n",
            "  [ 1  8  3  4]]\n",
            "\n",
            " [[10  9  3  9]\n",
            "  [ 5  4  3  2]\n",
            "  [ 7  6  3  4]]]\n",
            "\n",
            "X.shape: (3, 3, 4)\n",
            "X.ndims: 3\n"
          ],
          "name": "stdout"
        }
      ]
    },
    {
      "cell_type": "code",
      "metadata": {
        "id": "CJdUSaqKBbmG",
        "colab": {
          "base_uri": "https://localhost:8080/",
          "height": 316
        },
        "outputId": "723c6861-d6f8-4268-8a77-697d93cfbd73"
      },
      "source": [
        "B = np.array([[[2, 3, 4], [2, 3, 4]],\n",
        "              [[1, 1, 1], [1, 1, 1]]])\n",
        "print(\"행렬 B\\n\", B, end='\\n\\n')\n",
        "print(\"B의 전치행렬\\n\", B.T)"
      ],
      "execution_count": null,
      "outputs": [
        {
          "output_type": "stream",
          "text": [
            "행렬 B\n",
            " [[[2 3 4]\n",
            "  [2 3 4]]\n",
            "\n",
            " [[1 1 1]\n",
            "  [1 1 1]]]\n",
            "\n",
            "B의 전치행렬\n",
            " [[[2 1]\n",
            "  [2 1]]\n",
            "\n",
            " [[3 1]\n",
            "  [3 1]]\n",
            "\n",
            " [[4 1]\n",
            "  [4 1]]]\n"
          ],
          "name": "stdout"
        }
      ]
    },
    {
      "cell_type": "markdown",
      "metadata": {
        "id": "OoBfPQdhCPog"
      },
      "source": [
        "### 3차원 텐서 활용 예시(이미지)\n",
        "- MNIST Dataset\n",
        "- 28x28 사이즈의 gray scale 이미지들로 구성  \n",
        "![이미지](https://upload.wikimedia.org/wikipedia/commons/thumb/2/27/MnistExamples.png/440px-MnistExamples.png)  \n",
        "<sub>출처: https://ko.wikipedia.org/wiki/MNIST_%EB%8D%B0%EC%9D%B4%ED%84%B0%EB%B2%A0%EC%9D%B4%EC%8A%A4</sub>\n",
        "\n",
        "  \n",
        "- gray scale: 0~255의 값을 통해 밝기를 표현 \n",
        "  0으로 갈수록 어두워지고, 255로 갈수록 밝아짐 \n",
        "![이미지](https://miro.medium.com/max/1400/1*euc4RxnNo78LFEGrb-QZ7w.jpeg)  \n",
        "<sub>출처: https://medium.com/@himnickson/converting-rgb-image-to-the-grayscale-image-in-java-9e1edc5bd6e7</sub>\n",
        "\n"
      ]
    },
    {
      "cell_type": "code",
      "metadata": {
        "id": "YmGkMLmEBbkh",
        "colab": {
          "base_uri": "https://localhost:8080/",
          "height": 55
        },
        "outputId": "356fea70-8853-4960-9b0e-032677a500ec"
      },
      "source": [
        "from keras.datasets import mnist\n",
        "\n",
        "(train_images, train_labels), (test_images, test_labels) = mnist.load_data()"
      ],
      "execution_count": null,
      "outputs": [
        {
          "output_type": "stream",
          "text": [
            "Downloading data from https://storage.googleapis.com/tensorflow/tf-keras-datasets/mnist.npz\n",
            "11493376/11490434 [==============================] - 0s 0us/step\n"
          ],
          "name": "stdout"
        }
      ]
    },
    {
      "cell_type": "code",
      "metadata": {
        "id": "7zV5i29eBbgo",
        "colab": {
          "base_uri": "https://localhost:8080/",
          "height": 36
        },
        "outputId": "71e7b5bf-d785-4f59-d930-1dade1cb936b"
      },
      "source": [
        "print(train_images.ndim)"
      ],
      "execution_count": null,
      "outputs": [
        {
          "output_type": "stream",
          "text": [
            "3\n"
          ],
          "name": "stdout"
        }
      ]
    },
    {
      "cell_type": "code",
      "metadata": {
        "id": "yWpHOjFyBbfN",
        "colab": {
          "base_uri": "https://localhost:8080/",
          "height": 36
        },
        "outputId": "4e44589b-f98e-4ee2-9a9d-fabe2b7d96bf"
      },
      "source": [
        "print(train_images.shape)"
      ],
      "execution_count": null,
      "outputs": [
        {
          "output_type": "stream",
          "text": [
            "(60000, 28, 28)\n"
          ],
          "name": "stdout"
        }
      ]
    },
    {
      "cell_type": "code",
      "metadata": {
        "id": "tRwClWKsBbcg",
        "colab": {
          "base_uri": "https://localhost:8080/",
          "height": 36
        },
        "outputId": "45757d84-8a27-4d62-87ef-17272bfe1310"
      },
      "source": [
        "print(train_images.dtype)"
      ],
      "execution_count": null,
      "outputs": [
        {
          "output_type": "stream",
          "text": [
            "uint8\n"
          ],
          "name": "stdout"
        }
      ]
    },
    {
      "cell_type": "code",
      "metadata": {
        "id": "WlN4f8mmBbZI",
        "colab": {
          "base_uri": "https://localhost:8080/",
          "height": 262
        },
        "outputId": "4b0373d2-c5fe-4033-b1b4-1b9167c99360"
      },
      "source": [
        "temp_image = train_images[3]\n",
        "plt.imshow(temp_image, cmap='gray')\n",
        "plt.show()"
      ],
      "execution_count": null,
      "outputs": [
        {
          "output_type": "display_data",
          "data": {
            "image/png": "[encoded data removed]",
            "text/plain": [
              "<Figure size 432x288 with 1 Axes>"
            ]
          },
          "metadata": {
            "tags": [],
            "needs_background": "light"
          }
        }
      ]
    },
    {
      "cell_type": "markdown",
      "metadata": {
        "id": "6zrYXjEoCnZG"
      },
      "source": [
        "## 브로드캐스팅(broadcasting)\n",
        "- 넘파이에서 다른 형상(shape)끼리 계산 가능\n",
        "\n",
        "- 1차원 텐서\n",
        "\n",
        "![1d](https://numpy.org/doc/1.18/_images/theory.broadcast_1.gif)\n",
        "\n",
        "- 2차원 텐서\n",
        "\n",
        "![2d](https://numpy.org/doc/1.18/_images/theory.broadcast_2.gif)\n",
        "\n",
        "- 더 작은 형상(shape)이 형상이 더 큰 배열에 확장 가능해야함\n",
        "\n",
        "![broadcast](https://numpy.org/doc/1.18/_images/theory.broadcast_3.gif) \n",
        "\n",
        "- (참고) 아래의 경우도 가능\n",
        "\n",
        "![broadcast](https://numpy.org/doc/1.18/_images/theory.broadcast_4.gif)\n",
        "\n",
        "<br /><sub>https://numpy.org/doc/1.18/user/theory.broadcasting.html#array-broadcasting-in-numpy</sub>"
      ]
    },
    {
      "cell_type": "code",
      "metadata": {
        "id": "CvD1A-YzCnLj",
        "colab": {
          "base_uri": "https://localhost:8080/",
          "height": 55
        },
        "outputId": "b2419cdc-d1e4-46cb-e6ef-abc789b51f7a"
      },
      "source": [
        "a = np.array(10)\n",
        "b = np.array([10, 20, 30])\n",
        "print(np.dot(a, b))\n",
        "print(a * b)"
      ],
      "execution_count": null,
      "outputs": [
        {
          "output_type": "stream",
          "text": [
            "[100 200 300]\n",
            "[100 200 300]\n"
          ],
          "name": "stdout"
        }
      ]
    },
    {
      "cell_type": "code",
      "metadata": {
        "id": "GBqGnivIBbTz",
        "colab": {
          "base_uri": "https://localhost:8080/",
          "height": 167
        },
        "outputId": "a60e0088-8848-4b12-c2b1-21a722b60d82"
      },
      "source": [
        "A = np.array([[1, 2], [3, 4]])\n",
        "B = np.array([10, 20])\n",
        "print(\"행렬 A\\n\", A)\n",
        "print(\"행렬 B\\n\", B)\n",
        "print(\"A * B\\n\", A * B)"
      ],
      "execution_count": null,
      "outputs": [
        {
          "output_type": "stream",
          "text": [
            "행렬 A\n",
            " [[1 2]\n",
            " [3 4]]\n",
            "행렬 B\n",
            " [10 20]\n",
            "A * B\n",
            " [[10 40]\n",
            " [30 80]]\n"
          ],
          "name": "stdout"
        }
      ]
    },
    {
      "cell_type": "code",
      "metadata": {
        "id": "c0CvqipjCq9-",
        "colab": {
          "base_uri": "https://localhost:8080/",
          "height": 316
        },
        "outputId": "a85eba46-ddb6-480c-c281-9631997de24a"
      },
      "source": [
        "A = np.array([[[1, 1, 1],\n",
        "               [2, 2, 2]],\n",
        "              [[3, 3, 3],\n",
        "               [4, 4, 4]]])\n",
        "B = np.array([[10, 10, 10]])\n",
        "\n",
        "print(\"행렬 A\\n\", A)\n",
        "print(\"A.shape:\", A.shape)\n",
        "print(\"행렬 B\\n\", B)\n",
        "print(\"B.shape:\", B.shape)\n",
        "print(\"A * B\\n\", A * B)"
      ],
      "execution_count": null,
      "outputs": [
        {
          "output_type": "stream",
          "text": [
            "행렬 A\n",
            " [[[1 1 1]\n",
            "  [2 2 2]]\n",
            "\n",
            " [[3 3 3]\n",
            "  [4 4 4]]]\n",
            "A.shape: (2, 2, 3)\n",
            "행렬 B\n",
            " [[10 10 10]]\n",
            "B.shape: (1, 3)\n",
            "A * B\n",
            " [[[10 10 10]\n",
            "  [20 20 20]]\n",
            "\n",
            " [[30 30 30]\n",
            "  [40 40 40]]]\n"
          ],
          "name": "stdout"
        }
      ]
    },
    {
      "cell_type": "code",
      "metadata": {
        "id": "O3dSdUymCsEh",
        "colab": {
          "base_uri": "https://localhost:8080/",
          "height": 213
        },
        "outputId": "e88c55ff-ce36-4b6a-9658-2218851de8be"
      },
      "source": [
        "# 브로드캐스팅 조건에 안 맞아 Error 발생\n",
        "A = np.array([[1, 2, 3], [4, 5, 6]])\n",
        "B = np.array([10, 10])\n",
        "print(A * B)"
      ],
      "execution_count": null,
      "outputs": [
        {
          "output_type": "error",
          "ename": "ValueError",
          "evalue": "ignored",
          "traceback": [
            "\u001b[0;31m---------------------------------------------------------------------------\u001b[0m",
            "\u001b[0;31mValueError\u001b[0m                                Traceback (most recent call last)",
            "\u001b[0;32m<ipython-input-37-46d66437de06>\u001b[0m in \u001b[0;36m<module>\u001b[0;34m()\u001b[0m\n\u001b[1;32m      1\u001b[0m \u001b[0mA\u001b[0m \u001b[0;34m=\u001b[0m \u001b[0mnp\u001b[0m\u001b[0;34m.\u001b[0m\u001b[0marray\u001b[0m\u001b[0;34m(\u001b[0m\u001b[0;34m[\u001b[0m\u001b[0;34m[\u001b[0m\u001b[0;36m1\u001b[0m\u001b[0;34m,\u001b[0m \u001b[0;36m2\u001b[0m\u001b[0;34m,\u001b[0m \u001b[0;36m3\u001b[0m\u001b[0;34m]\u001b[0m\u001b[0;34m,\u001b[0m \u001b[0;34m[\u001b[0m\u001b[0;36m4\u001b[0m\u001b[0;34m,\u001b[0m \u001b[0;36m5\u001b[0m\u001b[0;34m,\u001b[0m \u001b[0;36m6\u001b[0m\u001b[0;34m]\u001b[0m\u001b[0;34m]\u001b[0m\u001b[0;34m)\u001b[0m\u001b[0;34m\u001b[0m\u001b[0;34m\u001b[0m\u001b[0m\n\u001b[1;32m      2\u001b[0m \u001b[0mB\u001b[0m \u001b[0;34m=\u001b[0m \u001b[0mnp\u001b[0m\u001b[0;34m.\u001b[0m\u001b[0marray\u001b[0m\u001b[0;34m(\u001b[0m\u001b[0;34m[\u001b[0m\u001b[0;36m10\u001b[0m\u001b[0;34m,\u001b[0m \u001b[0;36m10\u001b[0m\u001b[0;34m]\u001b[0m\u001b[0;34m)\u001b[0m\u001b[0;34m\u001b[0m\u001b[0;34m\u001b[0m\u001b[0m\n\u001b[0;32m----> 3\u001b[0;31m \u001b[0mprint\u001b[0m\u001b[0;34m(\u001b[0m\u001b[0mA\u001b[0m \u001b[0;34m*\u001b[0m \u001b[0mB\u001b[0m\u001b[0;34m)\u001b[0m\u001b[0;34m\u001b[0m\u001b[0;34m\u001b[0m\u001b[0m\n\u001b[0m",
            "\u001b[0;31mValueError\u001b[0m: operands could not be broadcast together with shapes (2,3) (2,) "
          ]
        }
      ]
    },
    {
      "cell_type": "markdown",
      "metadata": {
        "id": "oMdQuRrbCvHh"
      },
      "source": [
        "## 4, 5차원 텐서\n",
        "- Color Image Datasets(4차원)\n",
        "  - (samples, height, width, channels) ( Keras, Tensorflow )\n",
        "  - (samples, channels, height, width) ( Pytorch )\n",
        "\n",
        "\n",
        "- 동영상(5차원)\n",
        "  1. (samples, frames, height, width, channels)\n",
        "  2. (samples, frames, channels, height, width)\n",
        "  - 예시 1) (4, 300, 1920, 1080, 3) \n",
        "    - 1920x1080 사이즈 3채널의 300프레임 수를 가진 배치가 4개"
      ]
    },
    {
      "cell_type": "markdown",
      "metadata": {
        "id": "owYBNkzMCxaE"
      },
      "source": [
        "## 텐서 크기 변환\n",
        "- reshape로 텐서의 크기 변환 가능\n",
        "- **변환 전의 원소의 개수와 변환 이후의 텐서의 개수가 같아야** 함"
      ]
    },
    {
      "cell_type": "code",
      "metadata": {
        "id": "s9NyLg5GCxwF",
        "colab": {
          "base_uri": "https://localhost:8080/",
          "height": 148
        },
        "outputId": "96586ebd-f3a2-411e-a0c6-22646fa45591"
      },
      "source": [
        "A = np.array([[1, 2, 3], [4, 5, 6]])\n",
        "print(\"행렬 A\\n\", A)\n",
        "print(\"A.shape:\", A.shape)\n",
        "print(\"-------------\")\n",
        "A = A.reshape(6)\n",
        "print(\"A.shape:\", A.shape)\n",
        "print(A)"
      ],
      "execution_count": null,
      "outputs": [
        {
          "output_type": "stream",
          "text": [
            "행렬 A\n",
            " [[1 2 3]\n",
            " [4 5 6]]\n",
            "A.shape: (2, 3)\n",
            "-------------\n",
            "A.shape: (6,)\n",
            "[1 2 3 4 5 6]\n"
          ],
          "name": "stdout"
        }
      ]
    },
    {
      "cell_type": "code",
      "metadata": {
        "id": "u1vgBq9fC34Q",
        "colab": {
          "base_uri": "https://localhost:8080/",
          "height": 241
        },
        "outputId": "378cad20-02f4-497e-bcd0-fc2c039cff3b"
      },
      "source": [
        "B = np.array([[[2, 3, 4], [2, 3, 4]],\n",
        "              [[1, 1, 1], [1, 1, 1]]])\n",
        "print(\"행렬 B\\n\", B)\n",
        "print(\"B.shape:\", B.shape)\n",
        "print(\"-------------\")\n",
        "B = B.reshape(3, 4)\n",
        "print(\"B.shape:\", B.shape)\n",
        "print(B)"
      ],
      "execution_count": null,
      "outputs": [
        {
          "output_type": "stream",
          "text": [
            "행렬 B\n",
            " [[[2 3 4]\n",
            "  [2 3 4]]\n",
            "\n",
            " [[1 1 1]\n",
            "  [1 1 1]]]\n",
            "B.shape: (2, 2, 3)\n",
            "-------------\n",
            "B.shape: (3, 4)\n",
            "[[2 3 4 2]\n",
            " [3 4 1 1]\n",
            " [1 1 1 1]]\n"
          ],
          "name": "stdout"
        }
      ]
    },
    {
      "cell_type": "markdown",
      "metadata": {
        "id": "CHN5jR7vC8hO"
      },
      "source": [
        "- -1 을 통해 자동으로 형상을 지정 가능  \n",
        "  원소의 갯수에 맞게 넘파이가 자동으로 형상을 지정  \n",
        "      (2, 2, 3) -> (3, -1)     (O)\n",
        "                -> (2, 1, 6)   (O)\n",
        "                -> (2, -1, -1) (X)\n",
        "                -> (2, 5, -1)  (X) "
      ]
    },
    {
      "cell_type": "code",
      "metadata": {
        "id": "gYLuemhdC5KG",
        "colab": {
          "base_uri": "https://localhost:8080/",
          "height": 260
        },
        "outputId": "d9eab6df-d835-493a-d5c2-6d3fbf53cfe2"
      },
      "source": [
        "B = np.array([[[2, 3, 4], [2, 3, 4]],\n",
        "              [[1, 1, 1], [1, 1, 1]]])\n",
        "print(\"행렬 B\\n\", B)\n",
        "print(\"B.shape:\", B.shape)\n",
        "print(\"-------------\")\n",
        "B = B.reshape(4, -1)\n",
        "print(\"B.shape:\", B.shape)\n",
        "print(B)"
      ],
      "execution_count": null,
      "outputs": [
        {
          "output_type": "stream",
          "text": [
            "행렬 B\n",
            " [[[2 3 4]\n",
            "  [2 3 4]]\n",
            "\n",
            " [[1 1 1]\n",
            "  [1 1 1]]]\n",
            "B.shape: (2, 2, 3)\n",
            "-------------\n",
            "B.shape: (4, 3)\n",
            "[[2 3 4]\n",
            " [2 3 4]\n",
            " [1 1 1]\n",
            " [1 1 1]]\n"
          ],
          "name": "stdout"
        }
      ]
    }
  ]
}