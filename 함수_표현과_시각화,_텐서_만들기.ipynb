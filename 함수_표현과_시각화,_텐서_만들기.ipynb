{
  "nbformat": 4,
  "nbformat_minor": 0,
  "metadata": {
    "colab": {
      "name": "[과제] 함수 표현과 시각화, 텐서 만들기.ipynb",
      "provenance": [],
      "collapsed_sections": []
    },
    "kernelspec": {
      "name": "python3",
      "display_name": "Python 3"
    }
  },
  "cells": [
    {
      "cell_type": "markdown",
      "metadata": {
        "id": "r71me9Kyh0Sa"
      },
      "source": [
        "- 자신만의 일차, 이차, 삼차 함수를 정의하고, 시각화하기\n",
        "- 4차원, 5차원 텐서를 정의하고, 값을 넣은 후, 차원(ndim)과 모양(shape) 확인하기"
      ]
    },
    {
      "cell_type": "markdown",
      "metadata": {
        "id": "AIw0do9wh23K"
      },
      "source": [
        "# 함수 표현과 시각화"
      ]
    },
    {
      "cell_type": "code",
      "metadata": {
        "id": "k37gwFWAoUcc"
      },
      "source": [
        "import math\n",
        "import numpy as np\n",
        "import matplotlib.pyplot as plt\n",
        "plt.style.use(['seaborn-whitegrid'])"
      ],
      "execution_count": null,
      "outputs": []
    },
    {
      "cell_type": "markdown",
      "metadata": {
        "id": "7V02wWkAh6Lc"
      },
      "source": [
        "## 일차 함수"
      ]
    },
    {
      "cell_type": "code",
      "metadata": {
        "id": "DAxr35Ymob1w"
      },
      "source": [
        "def linear_function(x):\n",
        "  a = 3\n",
        "  b = 5\n",
        "  return a*x + b"
      ],
      "execution_count": null,
      "outputs": []
    },
    {
      "cell_type": "code",
      "metadata": {
        "id": "vmlSEWgmov2k",
        "colab": {
          "base_uri": "https://localhost:8080/",
          "height": 36
        },
        "outputId": "af8c632b-d701-43a7-9af3-ca75e83bf508"
      },
      "source": [
        "print(linear_function(3))"
      ],
      "execution_count": null,
      "outputs": [
        {
          "output_type": "stream",
          "text": [
            "14\n"
          ],
          "name": "stdout"
        }
      ]
    },
    {
      "cell_type": "code",
      "metadata": {
        "id": "ci7j2UsMo5N9",
        "colab": {
          "base_uri": "https://localhost:8080/",
          "height": 291
        },
        "outputId": "3c5128ec-c44b-476c-9050-aef797575e6c"
      },
      "source": [
        "x = np.arange(-5, 5, 0.1)\n",
        "y = linear_function(x)\n",
        "\n",
        "plt.plot(x, y)\n",
        "plt.xlabel('x')\n",
        "plt.ylabel('y')\n",
        "plt.title('Linear Function')\n",
        "plt.show()"
      ],
      "execution_count": null,
      "outputs": [
        {
          "output_type": "display_data",
          "data": {
            "image/png": "[encoded data removed]",
            "text/plain": [
              "<Figure size 432x288 with 1 Axes>"
            ]
          },
          "metadata": {
            "tags": [],
            "needs_background": "light"
          }
        }
      ]
    },
    {
      "cell_type": "markdown",
      "metadata": {
        "id": "O_jTEC67h7-s"
      },
      "source": [
        "## 이차 함수"
      ]
    },
    {
      "cell_type": "code",
      "metadata": {
        "id": "5tv9FzKFpXGg"
      },
      "source": [
        "def quadratic_function(x):\n",
        "  a = 2\n",
        "  b = 5\n",
        "  c = -7\n",
        "  return a*x**2 + b*x + c"
      ],
      "execution_count": null,
      "outputs": []
    },
    {
      "cell_type": "code",
      "metadata": {
        "id": "odMzl87TpYKB",
        "colab": {
          "base_uri": "https://localhost:8080/",
          "height": 36
        },
        "outputId": "fc9daea5-be20-484b-abdb-0cec29a9534a"
      },
      "source": [
        "print(quadratic_function(10))"
      ],
      "execution_count": null,
      "outputs": [
        {
          "output_type": "stream",
          "text": [
            "243\n"
          ],
          "name": "stdout"
        }
      ]
    },
    {
      "cell_type": "code",
      "metadata": {
        "id": "ff4xhotfpYRA",
        "colab": {
          "base_uri": "https://localhost:8080/",
          "height": 291
        },
        "outputId": "f62696c4-1a7b-4c39-9d8d-aab1f1df662c"
      },
      "source": [
        "x = np.arange(-5, 5, 0.1)\n",
        "y = quadratic_function(x)\n",
        "\n",
        "plt.plot(x, y)\n",
        "plt.xlabel('x')\n",
        "plt.ylabel('y')\n",
        "plt.title('Quadratic Funciton')\n",
        "plt.show()"
      ],
      "execution_count": null,
      "outputs": [
        {
          "output_type": "display_data",
          "data": {
            "image/png": "[encoded data removed]",
            "text/plain": [
              "<Figure size 432x288 with 1 Axes>"
            ]
          },
          "metadata": {
            "tags": [],
            "needs_background": "light"
          }
        }
      ]
    },
    {
      "cell_type": "markdown",
      "metadata": {
        "id": "q2C1owvch8-d"
      },
      "source": [
        "## 삼차 함수"
      ]
    },
    {
      "cell_type": "code",
      "metadata": {
        "id": "6PFHF0kGqFLn"
      },
      "source": [
        "def cubic_function(x):\n",
        "  a = 1\n",
        "  b = -3\n",
        "  c = 4\n",
        "  d = 8\n",
        "  return a*x**3 + b*x**2 + c*x + d"
      ],
      "execution_count": null,
      "outputs": []
    },
    {
      "cell_type": "code",
      "metadata": {
        "id": "D1tvqy1fqFd_",
        "colab": {
          "base_uri": "https://localhost:8080/",
          "height": 36
        },
        "outputId": "a7b3bc22-b20c-4e13-cb4b-8a44d348202c"
      },
      "source": [
        "print(cubic_function(2))"
      ],
      "execution_count": null,
      "outputs": [
        {
          "output_type": "stream",
          "text": [
            "12\n"
          ],
          "name": "stdout"
        }
      ]
    },
    {
      "cell_type": "code",
      "metadata": {
        "id": "TZcpXPj0qFnG",
        "colab": {
          "base_uri": "https://localhost:8080/",
          "height": 291
        },
        "outputId": "12ecf515-2379-4daf-bd1d-ca8ae231fc0c"
      },
      "source": [
        "x = np.arange(-5, 5, 0.1)\n",
        "y = cubic_function(x)\n",
        "\n",
        "plt.plot(x, y)\n",
        "plt.xlabel('x')\n",
        "plt.ylabel('y')\n",
        "plt.title('Cubic Function')\n",
        "plt.show()"
      ],
      "execution_count": null,
      "outputs": [
        {
          "output_type": "display_data",
          "data": {
            "image/png": "[encoded data removed]",
            "text/plain": [
              "<Figure size 432x288 with 1 Axes>"
            ]
          },
          "metadata": {
            "tags": [],
            "needs_background": "light"
          }
        }
      ]
    },
    {
      "cell_type": "markdown",
      "metadata": {
        "id": "wbfuv8PMh_i2"
      },
      "source": [
        "# 텐서(Tensor)"
      ]
    },
    {
      "cell_type": "markdown",
      "metadata": {
        "id": "RYZI6pUSiKCi"
      },
      "source": [
        "## 4차원 텐서"
      ]
    },
    {
      "cell_type": "code",
      "metadata": {
        "id": "Wu2q2lX1rVEO",
        "colab": {
          "base_uri": "https://localhost:8080/",
          "height": 279
        },
        "outputId": "d66e11f9-ec06-402d-814f-f06994dfb3bd"
      },
      "source": [
        "dim4_a = np.array([[[[1, 2, 3, 4],\n",
        "                       [5, 6, 7, 8]]],\n",
        "                     [[[9, 8, 7, 6],\n",
        "                       [5, 4, 3, 2]]],\n",
        "                     [[[0, 1, 2, 3],\n",
        "                       [0, 9, 8, 7]]]])\n",
        "\n",
        "print(\"4차원 텐서:\\n\", dim4_a, end='\\n\\n')\n",
        "print(\"차원(dimension):\", np.ndim(dim4_a))\n",
        "print(\"모양(shape):\", dim4_a.shape)"
      ],
      "execution_count": null,
      "outputs": [
        {
          "output_type": "stream",
          "text": [
            "4차원 텐서:\n",
            " [[[[1 2 3 4]\n",
            "   [5 6 7 8]]]\n",
            "\n",
            "\n",
            " [[[9 8 7 6]\n",
            "   [5 4 3 2]]]\n",
            "\n",
            "\n",
            " [[[0 1 2 3]\n",
            "   [0 9 8 7]]]]\n",
            "\n",
            "차원(dimension): 4\n",
            "모양(shape): (3, 1, 2, 4)\n"
          ],
          "name": "stdout"
        }
      ]
    },
    {
      "cell_type": "code",
      "metadata": {
        "id": "Bp3_zZYRuit_",
        "colab": {
          "base_uri": "https://localhost:8080/",
          "height": 652
        },
        "outputId": "2146d885-f5d3-4239-a253-b0bc8cf9d432"
      },
      "source": [
        "dim4_b = np.random.randint(0, 10, size=(2, 3, 4, 6))\n",
        "\n",
        "print(\"4차원 텐서:\\n\", dim4_b, end='\\n\\n')\n",
        "print(\"차원(dimension):\", np.ndim(dim4_b))\n",
        "print(\"모양(shape):\", dim4_b.shape)"
      ],
      "execution_count": null,
      "outputs": [
        {
          "output_type": "stream",
          "text": [
            "4차원 텐서:\n",
            " [[[[9 2 7 5 6 6]\n",
            "   [6 9 1 1 2 5]\n",
            "   [9 5 9 3 8 4]\n",
            "   [7 7 3 6 2 5]]\n",
            "\n",
            "  [[3 2 7 2 2 4]\n",
            "   [4 6 1 9 1 8]\n",
            "   [4 8 0 7 9 1]\n",
            "   [4 7 2 7 4 0]]\n",
            "\n",
            "  [[8 0 6 1 0 0]\n",
            "   [6 5 3 6 6 2]\n",
            "   [0 9 5 8 2 7]\n",
            "   [6 1 0 0 1 2]]]\n",
            "\n",
            "\n",
            " [[[8 3 2 9 5 9]\n",
            "   [9 2 6 4 4 5]\n",
            "   [8 8 9 5 3 6]\n",
            "   [1 8 8 7 3 3]]\n",
            "\n",
            "  [[6 5 8 4 6 8]\n",
            "   [7 2 5 8 5 2]\n",
            "   [7 7 0 8 7 9]\n",
            "   [4 5 7 8 2 9]]\n",
            "\n",
            "  [[4 3 5 4 1 4]\n",
            "   [8 2 9 7 3 1]\n",
            "   [7 2 6 5 1 7]\n",
            "   [3 1 4 3 0 9]]]]\n",
            "\n",
            "차원(dimension): 4\n",
            "모양(shape): (2, 3, 4, 6)\n"
          ],
          "name": "stdout"
        }
      ]
    },
    {
      "cell_type": "markdown",
      "metadata": {
        "id": "ANZFnH3oiLgb"
      },
      "source": [
        "## 5차원 텐서"
      ]
    },
    {
      "cell_type": "code",
      "metadata": {
        "id": "w0hnCAhFhuIh",
        "colab": {
          "base_uri": "https://localhost:8080/",
          "height": 876
        },
        "outputId": "ef05fbcb-1cb8-47d3-b8f3-92854af9fce9"
      },
      "source": [
        "dim5_b = np.array([[[[[0, 0],\n",
        "                      [0, 0]],\n",
        "                     [[1, 1],\n",
        "                      [1, 1]]],\n",
        "                    [[[3, 3],\n",
        "                      [3, 3]],\n",
        "                     [[4, 4],\n",
        "                      [4, 4]]]],\n",
        "                   [[[[5, 5],\n",
        "                      [5, 5]],\n",
        "                     [[6, 6],\n",
        "                      [6, 6]]],\n",
        "                    [[[7, 7],\n",
        "                      [7, 7]],\n",
        "                     [[8, 8],\n",
        "                      [8, 8]]]],\n",
        "                   [[[[9, 9],\n",
        "                      [9, 9]],\n",
        "                     [[2, 2],\n",
        "                      [2, 2]]],\n",
        "                    [[[0, 0],\n",
        "                      [0, 0]],\n",
        "                     [[1, 1],\n",
        "                      [1, 1]]]]])\n",
        "\n",
        "print(\"5차원 텐서:\\n\", dim5_b, end='\\n\\n')\n",
        "print(\"차원(dimension):\", np.ndim(dim5_b))\n",
        "print(\"모양(shape):\", dim5_b.shape)"
      ],
      "execution_count": null,
      "outputs": [
        {
          "output_type": "stream",
          "text": [
            "5차원 텐서:\n",
            " [[[[[0 0]\n",
            "    [0 0]]\n",
            "\n",
            "   [[1 1]\n",
            "    [1 1]]]\n",
            "\n",
            "\n",
            "  [[[3 3]\n",
            "    [3 3]]\n",
            "\n",
            "   [[4 4]\n",
            "    [4 4]]]]\n",
            "\n",
            "\n",
            "\n",
            " [[[[5 5]\n",
            "    [5 5]]\n",
            "\n",
            "   [[6 6]\n",
            "    [6 6]]]\n",
            "\n",
            "\n",
            "  [[[7 7]\n",
            "    [7 7]]\n",
            "\n",
            "   [[8 8]\n",
            "    [8 8]]]]\n",
            "\n",
            "\n",
            "\n",
            " [[[[9 9]\n",
            "    [9 9]]\n",
            "\n",
            "   [[2 2]\n",
            "    [2 2]]]\n",
            "\n",
            "\n",
            "  [[[0 0]\n",
            "    [0 0]]\n",
            "\n",
            "   [[1 1]\n",
            "    [1 1]]]]]\n",
            "\n",
            "차원(dimension): 5\n",
            "모양(shape): (3, 2, 2, 2, 2)\n"
          ],
          "name": "stdout"
        }
      ]
    },
    {
      "cell_type": "code",
      "metadata": {
        "id": "tO4q5my5q5Ba",
        "colab": {
          "base_uri": "https://localhost:8080/",
          "height": 1000
        },
        "outputId": "12647609-c8be-46d4-f709-54c582460f5e"
      },
      "source": [
        "dim5_b = np.random.randint(0, 5, size=(3, 3, 2, 2, 2))\n",
        "\n",
        "print(\"5차원 텐서:\\n\", dim5_b, end='\\n\\n')\n",
        "print(\"차원(dimension):\", np.ndim(dim5_b))\n",
        "print(\"모양(shape):\", dim5_b.shape)"
      ],
      "execution_count": null,
      "outputs": [
        {
          "output_type": "stream",
          "text": [
            "5차원 텐서:\n",
            " [[[[[3 2]\n",
            "    [4 1]]\n",
            "\n",
            "   [[2 2]\n",
            "    [0 0]]]\n",
            "\n",
            "\n",
            "  [[[2 1]\n",
            "    [1 1]]\n",
            "\n",
            "   [[4 0]\n",
            "    [0 3]]]\n",
            "\n",
            "\n",
            "  [[[0 1]\n",
            "    [2 4]]\n",
            "\n",
            "   [[0 3]\n",
            "    [2 4]]]]\n",
            "\n",
            "\n",
            "\n",
            " [[[[2 1]\n",
            "    [2 3]]\n",
            "\n",
            "   [[2 2]\n",
            "    [0 1]]]\n",
            "\n",
            "\n",
            "  [[[2 1]\n",
            "    [2 4]]\n",
            "\n",
            "   [[2 2]\n",
            "    [4 4]]]\n",
            "\n",
            "\n",
            "  [[[0 3]\n",
            "    [2 2]]\n",
            "\n",
            "   [[2 2]\n",
            "    [0 3]]]]\n",
            "\n",
            "\n",
            "\n",
            " [[[[2 3]\n",
            "    [0 3]]\n",
            "\n",
            "   [[3 3]\n",
            "    [4 1]]]\n",
            "\n",
            "\n",
            "  [[[3 4]\n",
            "    [0 4]]\n",
            "\n",
            "   [[0 3]\n",
            "    [0 4]]]\n",
            "\n",
            "\n",
            "  [[[3 1]\n",
            "    [3 2]]\n",
            "\n",
            "   [[2 4]\n",
            "    [0 0]]]]]\n",
            "\n",
            "차원(dimension): 5\n",
            "모양(shape): (3, 3, 2, 2, 2)\n"
          ],
          "name": "stdout"
        }
      ]
    }
  ]
}