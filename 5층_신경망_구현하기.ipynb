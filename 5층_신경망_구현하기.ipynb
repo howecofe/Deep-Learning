{
  "nbformat": 4,
  "nbformat_minor": 0,
  "metadata": {
    "colab": {
      "name": "[과제] 5층 신경망 구현하기.ipynb",
      "provenance": [],
      "collapsed_sections": []
    },
    "kernelspec": {
      "name": "python3",
      "display_name": "Python 3"
    }
  },
  "cells": [
    {
      "cell_type": "markdown",
      "metadata": {
        "id": "P26YJfeblnF1"
      },
      "source": [
        "3층 신경망 예제를 참고하여 5층으로 신경망에 필요한 활성화 함수와 레이어 정의 후, 신경망 추론 실행하기"
      ]
    },
    {
      "cell_type": "markdown",
      "metadata": {
        "id": "38XpyZNXBRu_"
      },
      "source": [
        "# 5층 신경망 구현"
      ]
    },
    {
      "cell_type": "markdown",
      "metadata": {
        "id": "yQlYsBeGBVfp"
      },
      "source": [
        "## 신경망 구현 계획"
      ]
    },
    {
      "cell_type": "code",
      "metadata": {
        "id": "mZkGDcOcrxEN"
      },
      "source": [
        "\"\"\"\n",
        "입력(0층): 3개\n",
        "1층: 4개\n",
        "2층: 5개\n",
        "3층: 4개\n",
        "4층: 3개\n",
        "출력(5층): 2개\n",
        "\n",
        "w1: (3, 4)\n",
        "b1: (4,)\n",
        "w2: (4, 5)\n",
        "b2: (5,)\n",
        "w3: (5, 4)\n",
        "b3: (4,)\n",
        "w4: (4, 3)\n",
        "b4: (3,)\n",
        "w5: (3, 2)\n",
        "b5: (2,)\n",
        "\"\"\""
      ],
      "execution_count": null,
      "outputs": []
    },
    {
      "cell_type": "markdown",
      "metadata": {
        "id": "n9PlKD1eBhj9"
      },
      "source": [
        "## 신경망 구현"
      ]
    },
    {
      "cell_type": "code",
      "metadata": {
        "id": "jw22fq7Hi5WG"
      },
      "source": [
        "import numpy as np\n",
        "from collections import OrderedDict"
      ],
      "execution_count": null,
      "outputs": []
    },
    {
      "cell_type": "markdown",
      "metadata": {
        "id": "XqbI0PpCDHgK"
      },
      "source": [
        "### 모델 [1]"
      ]
    },
    {
      "cell_type": "code",
      "metadata": {
        "id": "X71lGJ6wiOrc"
      },
      "source": [
        "class Net1():\n",
        "  def __init__(self, input_size=None, hidden_nodes=[4, 5, 4, 3], output_size=None):\n",
        "    self.params = OrderedDict()\n",
        "    self.params['W1'] = np.random.randn(input_size, hidden_nodes[0])\n",
        "    self.params['b1'] = np.random.randn(hidden_nodes[0])\n",
        "    self.params['W2'] = np.random.randn(hidden_nodes[0], hidden_nodes[1])\n",
        "    self.params['b2'] = np.random.randn(hidden_nodes[1])\n",
        "    self.params['W3'] = np.random.randn(hidden_nodes[1], hidden_nodes[2])\n",
        "    self.params['b3'] = np.random.randn(hidden_nodes[2])\n",
        "    self.params['W4'] = np.random.randn(hidden_nodes[2], hidden_nodes[3])\n",
        "    self.params['b4'] = np.random.randn(hidden_nodes[3])\n",
        "    self.params['W5'] = np.random.randn(hidden_nodes[3], output_size)\n",
        "    self.params['b5'] = np.random.randn(output_size)\n",
        "\n",
        "  def sigmoid(self, X):\n",
        "    return 1 / (1 + np.exp(-X))\n",
        "\n",
        "  def forward(self, x):\n",
        "    A1 = np.dot(x, self.params['W1']) + self.params['b1']\n",
        "    Z1 = self.sigmoid(A1)\n",
        "\n",
        "    A2 = np.dot(Z1, self.params['W2']) + self.params['b2']\n",
        "    Z2 = self.sigmoid(A2)\n",
        "\n",
        "    A3 = np.dot(Z2, self.params['W3']) + self.params['b3']\n",
        "    Z3 = self.sigmoid(A3)\n",
        "\n",
        "    A4 = np.dot(Z3, self.params['W4']) + self.params['b4']\n",
        "    Z4 = self.sigmoid(A4)\n",
        "\n",
        "    A5 = np.dot(Z4, self.params['W5']) + self.params['b5']\n",
        "    y = self.sigmoid(A5)\n",
        "\n",
        "    return y"
      ],
      "execution_count": null,
      "outputs": []
    },
    {
      "cell_type": "markdown",
      "metadata": {
        "id": "4jiYLIEhDLeT"
      },
      "source": [
        "### 모델 [2]"
      ]
    },
    {
      "cell_type": "code",
      "metadata": {
        "id": "zpYn65Qs9qkR"
      },
      "source": [
        "class Net2():\n",
        "  def __init__(self, input_size=None, hidden_nodes=[4, 5, 4, 3], output_size=None):\n",
        "    self.weights = OrderedDict()\n",
        "    self.bias = OrderedDict()\n",
        "    self.weights['W1'] = np.random.randn(input_size, hidden_nodes[0])\n",
        "    self.bias['b1'] = np.random.randn(hidden_nodes[0])\n",
        "    self.weights['W2'] = np.random.randn(hidden_nodes[0], hidden_nodes[1])\n",
        "    self.bias['b2'] = np.random.randn(hidden_nodes[1])\n",
        "    self.weights['W3'] = np.random.randn(hidden_nodes[1], hidden_nodes[2])\n",
        "    self.bias['b3'] = np.random.randn(hidden_nodes[2])\n",
        "    self.weights['W4'] = np.random.randn(hidden_nodes[2], hidden_nodes[3])\n",
        "    self.bias['b4'] = np.random.randn(hidden_nodes[3])\n",
        "    self.weights['W5'] = np.random.randn(hidden_nodes[3], output_size)\n",
        "    self.bias['b5'] = np.random.randn(output_size)\n",
        "\n",
        "  def sigmoid(self, X):\n",
        "    return 1 / (1 + np.exp(-X))\n",
        "\n",
        "  def forward(self, x):\n",
        "    input = x\n",
        "    i = 0\n",
        "    for w, b in zip(self.weights.values(), self.bias.values()):\n",
        "      a = np.dot(input, w) + b\n",
        "      z = self.sigmoid(a)\n",
        "      i += 1\n",
        "\n",
        "      if i == len(self.weights):\n",
        "        y = z\n",
        "        break\n",
        "      else:\n",
        "        input = z\n",
        "\n",
        "    return y"
      ],
      "execution_count": null,
      "outputs": []
    },
    {
      "cell_type": "markdown",
      "metadata": {
        "id": "8T7CMjgqDVIJ"
      },
      "source": [
        "## 신경망 추론 실행"
      ]
    },
    {
      "cell_type": "markdown",
      "metadata": {
        "id": "38KlQfRyDd1d"
      },
      "source": [
        "### 모델 [1]"
      ]
    },
    {
      "cell_type": "code",
      "metadata": {
        "id": "mqxT_1ynwm7d",
        "colab": {
          "base_uri": "https://localhost:8080/",
          "height": 36
        },
        "outputId": "c0f7770d-d2e4-43cb-87d4-68dfee3512a3"
      },
      "source": [
        "x = np.array([0.3, 1.3, -2.2])\n",
        "network1 = Net1(input_size=len(x), output_size=2)\n",
        "print(network1.forward(x))"
      ],
      "execution_count": null,
      "outputs": [
        {
          "output_type": "stream",
          "text": [
            "[0.71072249 0.22285631]\n"
          ],
          "name": "stdout"
        }
      ]
    },
    {
      "cell_type": "markdown",
      "metadata": {
        "id": "SoGjYB_JDhW0"
      },
      "source": [
        "### 모델 [2]"
      ]
    },
    {
      "cell_type": "code",
      "metadata": {
        "id": "U3EZdNg8-4y2",
        "colab": {
          "base_uri": "https://localhost:8080/",
          "height": 36
        },
        "outputId": "667911f0-c5f1-4216-ba84-1a90f12dac1e"
      },
      "source": [
        "x = np.array([0.3, 1.3, -2.2])\n",
        "network2 = Net2(input_size=len(x), output_size=2)\n",
        "print(network2.forward(x))"
      ],
      "execution_count": null,
      "outputs": [
        {
          "output_type": "stream",
          "text": [
            "[0.67626168 0.72661085]\n"
          ],
          "name": "stdout"
        }
      ]
    }
  ]
}